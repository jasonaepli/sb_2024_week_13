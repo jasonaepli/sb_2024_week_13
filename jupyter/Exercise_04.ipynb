{
 "cells": [
  {
   "cell_type": "markdown",
   "id": "cc2dc765-db5f-49be-a230-2f9e327e99f5",
   "metadata": {},
   "source": [
    "# Exercise 04: Number of Convolution Outputs\n",
    "\n",
    "**Given a filter $h[t]$ with $N_h$ taps and a signal $x[t]$ with $N_x$ samples, how many non-zero outputs will $y = h * x$ contain?**"
   ]
  },
  {
   "cell_type": "markdown",
   "id": "96de4049-50f0-4043-8407-8a40830664a1",
   "metadata": {},
   "source": [
    "YOUR ANSWER HERE"
   ]
  },
  {
   "cell_type": "markdown",
   "id": "b86d4555-bfa8-4525-b2d2-3d874f044e92",
   "metadata": {},
   "source": [
    "<font color='red'>\n",
    "$$\n",
    "    N_h + N_x - 1\n",
    "$$"
   ]
  },
  {
   "cell_type": "code",
   "execution_count": null,
   "id": "7b131580-3c64-4956-876c-05b5a71d1d26",
   "metadata": {},
   "outputs": [],
   "source": []
  }
 ],
 "metadata": {
  "kernelspec": {
   "display_name": "Python 3 (ipykernel)",
   "language": "python",
   "name": "python3"
  },
  "language_info": {
   "codemirror_mode": {
    "name": "ipython",
    "version": 3
   },
   "file_extension": ".py",
   "mimetype": "text/x-python",
   "name": "python",
   "nbconvert_exporter": "python",
   "pygments_lexer": "ipython3",
   "version": "3.10.13"
  }
 },
 "nbformat": 4,
 "nbformat_minor": 5
}
